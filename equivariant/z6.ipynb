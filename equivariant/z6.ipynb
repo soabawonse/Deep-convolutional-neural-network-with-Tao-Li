{
 "cells": [
  {
   "cell_type": "code",
   "execution_count": 2,
   "metadata": {},
   "outputs": [],
   "source": [
    "import numpy as np\n",
    "import matplotlib.pyplot as plt\n",
    "import dmol\n",
    "from dmol import color_cycle"
   ]
  },
  {
   "cell_type": "code",
   "execution_count": 3,
   "metadata": {},
   "outputs": [
    {
     "data": {
      "text/plain": [
       "array([0.265625, 0.265625, 0.265625])"
      ]
     },
     "execution_count": 3,
     "metadata": {},
     "output_type": "execute_result"
    }
   ],
   "source": [
    "# make our colors (nothing to do with the model)\n",
    "\n",
    "vertex_colors = []\n",
    "for c in color_cycle:\n",
    "    hex_color = int(c[1:], 16)\n",
    "    r = hex_color // 256**2\n",
    "    hex_color = hex_color - r * 256**2\n",
    "    g = hex_color // 256\n",
    "    hex_color = hex_color - g * 256\n",
    "    b = hex_color\n",
    "    vertex_colors.append((r / 256, g / 256, b / 256))\n",
    "vertex_colors = np.array(vertex_colors)\n",
    "\n",
    "def z6_fxn(x):\n",
    "    return vertex_colors[x]\n",
    "\n",
    "z6_fxn(0)   "
   ]
  },
  {
   "cell_type": "code",
   "execution_count": 5,
   "metadata": {},
   "outputs": [
    {
     "name": "stdout",
     "output_type": "stream",
     "text": [
      "[[[-0.02818223  0.42833187  0.06651722]\n",
      "  [ 0.3024719  -0.63432209 -0.36274117]\n",
      "  [-0.67246045 -0.35955316 -0.81314628]]\n",
      "\n",
      " [[-1.7262826   0.17742614 -0.40178094]\n",
      "  [-1.63019835  0.46278226 -0.90729836]\n",
      "  [ 0.0519454   0.72909056  0.12898291]]\n",
      "\n",
      " [[ 1.13940068 -1.23482582  0.40234164]\n",
      "  [-0.68481009 -0.87079715 -0.57884966]\n",
      "  [-0.31155253  0.05616534 -1.16514984]]\n",
      "\n",
      " [[ 0.90082649  0.46566244 -1.53624369]\n",
      "  [ 1.48825219  1.89588918  1.17877957]\n",
      "  [-0.17992484 -1.07075262  1.05445173]]\n",
      "\n",
      " [[-0.40317695  1.22244507  0.20827498]\n",
      "  [ 0.97663904  0.3563664   0.70657317]\n",
      "  [ 0.01050002  1.78587049  0.12691209]]\n",
      "\n",
      " [[ 0.40198936  1.8831507  -1.34775906]\n",
      "  [-1.270485    0.96939671 -1.17312341]\n",
      "  [ 1.94362119 -0.41361898 -0.74745481]]]\n"
     ]
    }
   ],
   "source": [
    "# make weights be 3x3 matrices at each group element\n",
    "# 3x3 so that we have 3 color channels in and 3 out\n",
    "weights = np.random.normal(size=(6, 3, 3))\n",
    "\n",
    "def z6_omega(x):\n",
    "    return weights[x]\n",
    "\n",
    "z6_omega(3)\n",
    "\n",
    "print(weights) # six 3 x 3 weight matrices"
   ]
  },
  {
   "cell_type": "code",
   "execution_count": 6,
   "metadata": {},
   "outputs": [
    {
     "data": {
      "text/plain": [
       "array([ 0.17467805,  2.88853425, -3.00705901])"
      ]
     },
     "execution_count": 6,
     "metadata": {},
     "output_type": "execute_result"
    }
   ],
   "source": [
    "# this is the inverse of the group\n",
    "def z6_inv(g):\n",
    "    return (6 - g) % 6\n",
    "\n",
    "# this is the binary operation on the group\n",
    "def z6_prod(g1, g2):\n",
    "    return (g1 + g2) % 6\n",
    "\n",
    "def conv(f, p):\n",
    "\n",
    "    def out(u):\n",
    "        g = np.arange(6)\n",
    "        # einsum is so we can do matrix product for elements of f and g, since we have one matrix per color\n",
    "        c = np.sum(np.einsum(\"ij,ijk->ik\", f(z6_prod(u, z6_inv(g))), p(g)), axis=0)\n",
    "        return c\n",
    "\n",
    "    return out\n",
    "\n",
    "conv(z6_fxn, z6_omega)(0)"
   ]
  },
  {
   "cell_type": "code",
   "execution_count": 7,
   "metadata": {},
   "outputs": [
    {
     "data": {
      "text/plain": [
       "(array([0.265625, 0.265625, 0.265625]),\n",
       " array([0.94921875, 0.70703125, 0.3828125 ]))"
      ]
     },
     "execution_count": 7,
     "metadata": {},
     "output_type": "execute_result"
    }
   ],
   "source": [
    "def z6_fxn_trans(g, f):\n",
    "    return lambda h: f(z6_prod(z6_inv(g), h))\n",
    "\n",
    "z6_fxn(0), z6_fxn_trans(2, z6_fxn)(0)"
   ]
  },
  {
   "cell_type": "code",
   "execution_count": 8,
   "metadata": {},
   "outputs": [],
   "source": [
    "trans_element = 2\n",
    "trans_input_fxn = z6_fxn_trans(trans_element, z6_fxn)\n",
    "trans_input_out = conv(trans_input_fxn, z6_omega)"
   ]
  },
  {
   "cell_type": "code",
   "execution_count": 9,
   "metadata": {},
   "outputs": [
    {
     "name": "stdout",
     "output_type": "stream",
     "text": [
      "g -> psi[f(g)], g -> psi[Tgf(g)], g-> Tg psi[f(g)]\n",
      "0 [ 0.17  2.89 -3.01] [-0.08  2.21 -2.74] [-0.08  2.21 -2.74]\n",
      "1 [ 1.46  3.28 -4.15] [-0.13  1.45 -2.01] [-0.13  1.45 -2.01]\n",
      "2 [ 0.79  4.82 -1.9 ] [ 0.17  2.89 -3.01] [ 0.17  2.89 -3.01]\n",
      "3 [-1.37  5.29 -3.59] [ 1.46  3.28 -4.15] [ 1.46  3.28 -4.15]\n",
      "4 [-0.08  2.21 -2.74] [ 0.79  4.82 -1.9 ] [ 0.79  4.82 -1.9 ]\n",
      "5 [-0.13  1.45 -2.01] [-1.37  5.29 -3.59] [-1.37  5.29 -3.59]\n"
     ]
    }
   ],
   "source": [
    "output_fxn = conv(z6_fxn, z6_omega)\n",
    "trans_output_out = z6_fxn_trans(trans_element, output_fxn)\n",
    "\n",
    "print(\"g -> psi[f(g)], g -> psi[Tgf(g)], g-> Tg psi[f(g)]\")\n",
    "for i in range(6):\n",
    "    print(\n",
    "        i,\n",
    "        np.round(conv(z6_fxn, z6_omega)(i), 2),\n",
    "        np.round(trans_input_out(i), 2),\n",
    "        np.round(trans_output_out(i), 2),\n",
    "    )"
   ]
  },
  {
   "cell_type": "code",
   "execution_count": 10,
   "metadata": {},
   "outputs": [
    {
     "data": {
      "image/png": "[encoded data removed]",
      "text/plain": [
       "<Figure size 900x692.308 with 3 Axes>"
      ]
     },
     "metadata": {},
     "output_type": "display_data"
    }
   ],
   "source": [
    "c1 = conv(z6_fxn, z6_omega)\n",
    "c2 = trans_input_out\n",
    "c3 = trans_output_out\n",
    "titles = [\n",
    "    r\"$\\psi\\left[f(g)\\right]$\",\n",
    "    r\"$\\psi\\left[\\mathbb{T}_2f(g)\\right]$\",\n",
    "    r\"$\\mathbb{T}_2\\psi\\left[f(g)\\right]$\",\n",
    "]\n",
    "\n",
    "\n",
    "def sigmoid(x):\n",
    "    return 1 / (1 + np.exp(-x))\n",
    "\n",
    "\n",
    "def convert_color(r, g, b):\n",
    "    h = int(sigmoid(r) * 256**3 + sigmoid(g) * 256**2 + sigmoid(b) * 256)\n",
    "    return \"#{:6X}\".format(h)\n",
    "\n",
    "\n",
    "c1 = [sigmoid(c1(i)) for i in range(6)]\n",
    "c2 = [sigmoid(c2(i)) for i in range(6)]\n",
    "c3 = [sigmoid(c3(i)) for i in range(6)]\n",
    "\n",
    "fig, axs = plt.subplots(1, 3, squeeze=True)\n",
    "points = np.array(\n",
    "    [\n",
    "        (0, 1),\n",
    "        (0.5 * np.sqrt(3), 0.5),\n",
    "        (0.5 * np.sqrt(3), -0.5),\n",
    "        (0, -1),\n",
    "        (-0.5 * np.sqrt(3), -0.5),\n",
    "        (-0.5 * np.sqrt(3), 0.5),\n",
    "    ]\n",
    ")\n",
    "for i in range(3):\n",
    "    axs[i].scatter(points[:, 0], points[:, 1], color=[c1, c2, c3][i])\n",
    "    # plt.plot([0, points[0,0]], [0, points[0, 1]], color='black', zorder=0)\n",
    "    axs[i].set_xticks([])\n",
    "    axs[i].set_yticks([])\n",
    "    axs[i].set_xlim(-1.4, 1.4)\n",
    "    axs[i].set_ylim(-1.4, 1.4)\n",
    "    axs[i].set_aspect(\"equal\")\n",
    "    axs[i].set_title(titles[i], fontsize=8)\n",
    "plt.show()"
   ]
  }
 ],
 "metadata": {
  "kernelspec": {
   "display_name": "d2l",
   "language": "python",
   "name": "python3"
  },
  "language_info": {
   "codemirror_mode": {
    "name": "ipython",
    "version": 3
   },
   "file_extension": ".py",
   "mimetype": "text/x-python",
   "name": "python",
   "nbconvert_exporter": "python",
   "pygments_lexer": "ipython3",
   "version": "3.9.16"
  },
  "orig_nbformat": 4
 },
 "nbformat": 4,
 "nbformat_minor": 2
}
