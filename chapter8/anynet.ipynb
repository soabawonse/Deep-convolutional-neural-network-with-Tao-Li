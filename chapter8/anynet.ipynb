{
 "cells": [
  {
   "cell_type": "code",
   "execution_count": 1,
   "metadata": {},
   "outputs": [],
   "source": [
    "import torch\n",
    "from torch import nn\n",
    "from torch.nn import functional as F\n",
    "from d2l import torch as d2l"
   ]
  },
  {
   "cell_type": "code",
   "execution_count": 2,
   "metadata": {},
   "outputs": [],
   "source": [
    "class AnyNet(d2l.Classifier):\n",
    "\n",
    "    def stem(self, num_channels):\n",
    "        return nn.Sequential(\n",
    "            nn.LazyConv2d(num_channels, kernel_size=3, stride=2, padding=1),\n",
    "            nn.LazyBatchNorm2d(), nn.ReLU())\n",
    "    \n",
    "    def stage(self, depth, num_channels, groups, bot_mul):\n",
    "        blk = []\n",
    "        for i in range(depth):\n",
    "            if i == 0:\n",
    "                blk.append(d2l.ResNeXtBlock(num_channels, groups, bot_mul,\n",
    "                    use_1x1conv=True, strides=2))\n",
    "            else:\n",
    "                blk.append(d2l.ResNeXtBlock(num_channels, groups, bot_mul))\n",
    "        return nn.Sequential(*blk)\n",
    "    \n",
    "    def __init__(self, arch, stem_channels, lr=0.1, num_classes=10):\n",
    "        super(AnyNet, self).__init__()\n",
    "        self.save_hyperparameters()\n",
    "        self.net = nn.Sequential(self.stem(stem_channels))\n",
    "        for i, s in enumerate(arch):\n",
    "            self.net.add_module(f'stage{i+1}', self.stage(*s))\n",
    "        self.net.add_module('head', nn.Sequential(\n",
    "            nn.AdaptiveAvgPool2d((1, 1)), nn.Flatten(),\n",
    "            nn.LazyLinear(num_classes)))\n",
    "        self.net.apply(d2l.init_cnn)"
   ]
  },
  {
   "cell_type": "code",
   "execution_count": null,
   "metadata": {},
   "outputs": [],
   "source": []
  }
 ],
 "metadata": {
  "kernelspec": {
   "display_name": "d2l",
   "language": "python",
   "name": "python3"
  },
  "language_info": {
   "codemirror_mode": {
    "name": "ipython",
    "version": 3
   },
   "file_extension": ".py",
   "mimetype": "text/x-python",
   "name": "python",
   "nbconvert_exporter": "python",
   "pygments_lexer": "ipython3",
   "version": "3.9.16"
  },
  "orig_nbformat": 4
 },
 "nbformat": 4,
 "nbformat_minor": 2
}
