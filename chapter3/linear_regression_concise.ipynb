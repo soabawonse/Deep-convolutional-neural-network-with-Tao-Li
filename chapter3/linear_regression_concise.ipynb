{
 "cells": [
  {
   "cell_type": "code",
   "execution_count": 8,
   "metadata": {},
   "outputs": [],
   "source": [
    "import numpy as np\n",
    "import torch\n",
    "from torch import nn\n",
    "from pytorch.d2l import torch as d2l"
   ]
  },
  {
   "cell_type": "code",
   "execution_count": 9,
   "metadata": {},
   "outputs": [],
   "source": [
    "# in Pytorch, the fully connected layer is defined in Linear and LazyLinear \n",
    "class LinearRegression(d2l.Module):\n",
    "    \"\"\"The linear regression model implemented with high-level APIs\"\"\"\n",
    "    def __init__(self, lr):\n",
    "        super().__init__()\n",
    "        self.save_hyperparameters()\n",
    "        self.net = nn.LazyLinear(1)\n",
    "        # mean, and standard deviation\n",
    "        self.net.weight.data.normal_(0, 0.01)\n",
    "        self.net.bias.data.fill_(0)"
   ]
  },
  {
   "cell_type": "code",
   "execution_count": 10,
   "metadata": {},
   "outputs": [],
   "source": [
    "# invoke the built in function to compute the output\n",
    "@d2l.add_to_class(LinearRegression)\n",
    "def forward(self, X):\n",
    "    return self.net(X)"
   ]
  },
  {
   "cell_type": "code",
   "execution_count": 11,
   "metadata": {},
   "outputs": [],
   "source": [
    "# defining the loss function\n",
    "# the MSELoss class computes the mean squared error. \n",
    "@d2l.add_to_class(LinearRegression)\n",
    "def loss(self, y_hat, y):\n",
    "    fn = nn.MSELoss()\n",
    "    return fn(y_hat, y)"
   ]
  },
  {
   "cell_type": "code",
   "execution_count": 12,
   "metadata": {},
   "outputs": [],
   "source": [
    "# defining the optimization algorithm\n",
    "@d2l.add_to_class(LinearRegression)\n",
    "def configure_optimizers(self):\n",
    "    return torch.optim.SGD(self.parameters(), self.lr)"
   ]
  },
  {
   "cell_type": "code",
   "execution_count": 13,
   "metadata": {},
   "outputs": [
    {
     "name": "stderr",
     "output_type": "stream",
     "text": [
      "/Users/luisali/miniconda3/envs/d2l/lib/python3.9/site-packages/torch/nn/modules/lazy.py:178: UserWarning: Lazy modules are a new feature under heavy development so changes to the API or functionality can happen at any moment.\n",
      "  warnings.warn('Lazy modules are a new feature under heavy development '\n"
     ]
    },
    {
     "ename": "RuntimeError",
     "evalue": "expected scalar type Float but found Long",
     "output_type": "error",
     "traceback": [
      "\u001b[0;31m---------------------------------------------------------------------------\u001b[0m",
      "\u001b[0;31mRuntimeError\u001b[0m                              Traceback (most recent call last)",
      "Cell \u001b[0;32mIn[13], line 2\u001b[0m\n\u001b[1;32m      1\u001b[0m model \u001b[39m=\u001b[39m LinearRegression(lr\u001b[39m=\u001b[39m\u001b[39m0.03\u001b[39m)\n\u001b[0;32m----> 2\u001b[0m data \u001b[39m=\u001b[39m d2l\u001b[39m.\u001b[39;49mSyntheticRegressionData(w\u001b[39m=\u001b[39;49mtorch\u001b[39m.\u001b[39;49mtensor([\u001b[39m2\u001b[39;49m, \u001b[39m-\u001b[39;49m\u001b[39m3\u001b[39;49m, \u001b[39m4\u001b[39;49m]), b\u001b[39m=\u001b[39;49m\u001b[39m4.2\u001b[39;49m)\n\u001b[1;32m      3\u001b[0m trainer \u001b[39m=\u001b[39m d2l\u001b[39m.\u001b[39mTrainer(max_epochs\u001b[39m=\u001b[39m\u001b[39m3\u001b[39m)\n\u001b[1;32m      4\u001b[0m trainer\u001b[39m.\u001b[39mfit(model, data)\n",
      "File \u001b[0;32m~/d2l-en/pytorch/d2l/torch.py:355\u001b[0m, in \u001b[0;36mSyntheticRegressionData.__init__\u001b[0;34m(self, w, b, noise, num_train, num_val, batch_size)\u001b[0m\n\u001b[1;32m    353\u001b[0m \u001b[39mself\u001b[39m\u001b[39m.\u001b[39mX \u001b[39m=\u001b[39m d2l\u001b[39m.\u001b[39mrandn(n, \u001b[39mlen\u001b[39m(w))\n\u001b[1;32m    354\u001b[0m noise \u001b[39m=\u001b[39m d2l\u001b[39m.\u001b[39mrandn(n, \u001b[39m1\u001b[39m) \u001b[39m*\u001b[39m noise\n\u001b[0;32m--> 355\u001b[0m \u001b[39mself\u001b[39m\u001b[39m.\u001b[39my \u001b[39m=\u001b[39m d2l\u001b[39m.\u001b[39;49mmatmul(\u001b[39mself\u001b[39;49m\u001b[39m.\u001b[39;49mX, d2l\u001b[39m.\u001b[39;49mreshape(w, (\u001b[39m-\u001b[39;49m\u001b[39m1\u001b[39;49m, \u001b[39m1\u001b[39;49m))) \u001b[39m+\u001b[39m b \u001b[39m+\u001b[39m noise\n",
      "\u001b[0;31mRuntimeError\u001b[0m: expected scalar type Float but found Long"
     ]
    }
   ],
   "source": [
    "# think there is a type somewhere in my code\n",
    "model = LinearRegression(lr=0.03)\n",
    "data = d2l.SyntheticRegressionData(w=torch.tensor([2, -3, 4]), b=4.2)\n",
    "trainer = d2l.Trainer(max_epochs=3)\n",
    "trainer.fit(model, data)"
   ]
  }
 ],
 "metadata": {
  "kernelspec": {
   "display_name": "d2l",
   "language": "python",
   "name": "python3"
  },
  "language_info": {
   "codemirror_mode": {
    "name": "ipython",
    "version": 3
   },
   "file_extension": ".py",
   "mimetype": "text/x-python",
   "name": "python",
   "nbconvert_exporter": "python",
   "pygments_lexer": "ipython3",
   "version": "3.9.16"
  },
  "orig_nbformat": 4
 },
 "nbformat": 4,
 "nbformat_minor": 2
}
