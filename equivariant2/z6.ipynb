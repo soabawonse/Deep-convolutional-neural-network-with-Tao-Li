{
 "cells": [
  {
   "cell_type": "code",
   "execution_count": 23,
   "metadata": {},
   "outputs": [],
   "source": [
    "import numpy as np\n",
    "import matplotlib.pyplot as plt\n",
    "import dmol\n",
    "from dmol import color_cycle"
   ]
  },
  {
   "cell_type": "code",
   "execution_count": 24,
   "metadata": {},
   "outputs": [
    {
     "name": "stdout",
     "output_type": "stream",
     "text": [
      "#444444\n",
      "#1BBC9B\n",
      "#a895bb\n",
      "#F06060\n",
      "#F3B562\n",
      "#80cedb\n",
      "(6, 3)\n"
     ]
    }
   ],
   "source": [
    "# make our colors (nothing to do with the model)\n",
    "\n",
    "# so color cycle just gives random hex values for colors\n",
    "for c in color_cycle:\n",
    "    print(c)\n",
    "\n",
    "vertex_colors = []\n",
    "for c in color_cycle:\n",
    "    # turns the hex color from base 8 to base 16 to get RGB \n",
    "    hex_color = int(c[1:], 16)\n",
    "    r = hex_color // 256**2\n",
    "    hex_color = hex_color - r * 256**2\n",
    "    g = hex_color // 256\n",
    "    hex_color = hex_color - g * 256\n",
    "    b = hex_color\n",
    "    # and then normalizes to a scale tof 0-1\n",
    "    vertex_colors.append((r / 256, g / 256, b / 256))\n",
    "vertex_colors = np.array(vertex_colors)\n",
    "\n",
    "def z6_fxn(x):\n",
    "    return vertex_colors[x]\n",
    "\n",
    "z6_fxn(0)\n",
    "\n",
    "print(vertex_colors.shape)"
   ]
  },
  {
   "cell_type": "code",
   "execution_count": 25,
   "metadata": {},
   "outputs": [
    {
     "name": "stdout",
     "output_type": "stream",
     "text": [
      "[[[-0.01702041  0.37915174  2.25930895]\n",
      "  [-0.04225715 -0.955945   -0.34598178]\n",
      "  [-0.46359597  0.48148147 -1.54079701]]\n",
      "\n",
      " [[ 0.06326199  0.15650654  0.23218104]\n",
      "  [-0.59731607 -0.23792173 -1.42406091]\n",
      "  [-0.49331988 -0.54286148  0.41605005]]\n",
      "\n",
      " [[-1.15618243  0.7811981   1.49448454]\n",
      "  [-2.06998503  0.42625873  0.67690804]\n",
      "  [-0.63743703 -0.39727181 -0.13288058]]\n",
      "\n",
      " [[-0.29779088 -0.30901297 -1.67600381]\n",
      "  [ 1.15233156  1.07961859 -0.81336426]\n",
      "  [-1.46642433  0.52106488 -0.57578797]]\n",
      "\n",
      " [[ 0.14195316 -0.31932842  0.69153875]\n",
      "  [ 0.69474914 -0.72559738 -1.38336396]\n",
      "  [-1.5829384   0.61037938 -1.18885926]]\n",
      "\n",
      " [[-0.50681635 -0.59631404 -0.0525673 ]\n",
      "  [-1.93627981  0.1887786   0.52389102]\n",
      "  [ 0.08842209 -0.31088617  0.09740017]]]\n"
     ]
    }
   ],
   "source": [
    "# make weights be 3x3 matrices at each group element\n",
    "# 3x3 so that we have 3 color channels in and 3 out\n",
    "\n",
    "weights = np.random.normal(size=(6, 3, 3))\n",
    "\n",
    "# returns the weight for the channel specified\n",
    "def z6_omega(x):\n",
    "    return weights[x]\n",
    "\n",
    "z6_omega(3)\n",
    "print(weights)"
   ]
  },
  {
   "cell_type": "code",
   "execution_count": 26,
   "metadata": {},
   "outputs": [
    {
     "data": {
      "text/plain": [
       "array([-6.29256306,  0.29995792, -1.60243073])"
      ]
     },
     "execution_count": 26,
     "metadata": {},
     "output_type": "execute_result"
    }
   ],
   "source": [
    "# returns the inverse of g, if g is an element of the group \n",
    "def z6_inv(g):\n",
    "    return (6 - g) % 6\n",
    "\n",
    "# defining the group operation, which is just addition and then modulo 6 for the cycle\n",
    "def z6_prod(g1, g2):\n",
    "    return (g1 + g2) % 6\n",
    "\n",
    "def conv(f, p):\n",
    "    def out(u):\n",
    "        g = np.arange(6)\n",
    "        # einsum is so we can do matrix product for elements of f and g,\n",
    "        # since we have one matrix per color\n",
    "        # so we ignore the first dimension of the second matrix, which is p(g) or z6_omega, the (6, 3, 3) matrix that has basically 6 channels of 3 x 3 kernels. \n",
    "        c = np.sum(np.einsum(\"ij,ijk->ik\", f(z6_prod(u, z6_inv(g))), p(g)), axis=0)\n",
    "        return c\n",
    "\n",
    "    return out\n",
    "\n",
    "conv(z6_fxn, z6_omega)(0)"
   ]
  },
  {
   "cell_type": "code",
   "execution_count": 27,
   "metadata": {},
   "outputs": [
    {
     "data": {
      "text/plain": [
       "(array([0.265625, 0.265625, 0.265625]),\n",
       " array([0.94921875, 0.70703125, 0.3828125 ]))"
      ]
     },
     "execution_count": 27,
     "metadata": {},
     "output_type": "execute_result"
    }
   ],
   "source": [
    "def z6_fxn_trans(g, f):\n",
    "    return lambda h: f(z6_prod(z6_inv(g), h))\n",
    "\n",
    "z6_fxn(0), z6_fxn_trans(2, z6_fxn)(0)"
   ]
  },
  {
   "cell_type": "code",
   "execution_count": 28,
   "metadata": {},
   "outputs": [],
   "source": [
    "# transform and then convolution\n",
    "trans_element = 2\n",
    "# resulting function after translation\n",
    "trans_input_fxn = z6_fxn_trans(trans_element, z6_fxn)\n",
    "# passing the resulting function into the convolution with z6_omega, which are random filters\n",
    "trans_input_out = conv(trans_input_fxn, z6_omega) "
   ]
  },
  {
   "cell_type": "code",
   "execution_count": 29,
   "metadata": {},
   "outputs": [
    {
     "name": "stdout",
     "output_type": "stream",
     "text": [
      "g -> psi[f(g)], g -> psi[Tgf(g)], g-> Tg psi[f(g)]\n",
      "0 [-6.29  0.3  -1.6 ] [-5.01  0.74  1.28] [-5.01  0.74  1.28]\n",
      "1 [-5.   -0.32 -2.34] [-4.74  0.77 -2.99] [-4.74  0.77 -2.99]\n",
      "2 [-3.76 -0.25 -2.65] [-6.29  0.3  -1.6 ] [-6.29  0.3  -1.6 ]\n",
      "3 [-5.6  -0.53 -0.63] [-5.   -0.32 -2.34] [-5.   -0.32 -2.34]\n",
      "4 [-5.01  0.74  1.28] [-3.76 -0.25 -2.65] [-3.76 -0.25 -2.65]\n",
      "5 [-4.74  0.77 -2.99] [-5.6  -0.53 -0.63] [-5.6  -0.53 -0.63]\n"
     ]
    }
   ],
   "source": [
    "# convolution and then ransform\n",
    "output_fxn = conv(z6_fxn, z6_omega)\n",
    "trans_output_out = z6_fxn_trans(trans_element, output_fxn)\n",
    "\n",
    "print(\"g -> psi[f(g)], g -> psi[Tgf(g)], g-> Tg psi[f(g)]\")\n",
    "for i in range(6):\n",
    "    print(\n",
    "        i,\n",
    "        np.round(conv(z6_fxn, z6_omega)(i), 2),\n",
    "        np.round(trans_input_out(i), 2),\n",
    "        np.round(trans_output_out(i), 2),\n",
    "    )"
   ]
  }
 ],
 "metadata": {
  "kernelspec": {
   "display_name": "d2l",
   "language": "python",
   "name": "python3"
  },
  "language_info": {
   "codemirror_mode": {
    "name": "ipython",
    "version": 3
   },
   "file_extension": ".py",
   "mimetype": "text/x-python",
   "name": "python",
   "nbconvert_exporter": "python",
   "pygments_lexer": "ipython3",
   "version": "3.9.16"
  },
  "orig_nbformat": 4
 },
 "nbformat": 4,
 "nbformat_minor": 2
}
