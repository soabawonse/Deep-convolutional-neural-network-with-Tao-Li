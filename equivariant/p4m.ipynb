{
 "cells": [
  {
   "cell_type": "code",
   "execution_count": 11,
   "metadata": {},
   "outputs": [],
   "source": [
    "import numpy as np\n",
    "import matplotlib.pyplot as plt\n",
    "import dmol\n",
    "from dmol import color_cycle"
   ]
  },
  {
   "cell_type": "code",
   "execution_count": 12,
   "metadata": {},
   "outputs": [],
   "source": [
    "# From https://gist.github.com/Susensio/61f4fee01150caaac1e10fc5f005eb75\n",
    "\n",
    "from functools import lru_cache, wraps\n",
    "\n",
    "\n",
    "def np_cache(*args, **kwargs):\n",
    "    \"\"\"LRU cache implementation for functions whose FIRST parameter is a numpy array\n",
    "    >>> array = np.array([[1, 2, 3], [4, 5, 6]])\n",
    "    >>> @np_cache(maxsize=256)\n",
    "    ... def multiply(array, factor):\n",
    "    ...     print(\"Calculating...\")\n",
    "    ...     return factor*array\n",
    "    >>> multiply(array, 2)\n",
    "    Calculating...\n",
    "    array([[ 2,  4,  6],\n",
    "           [ 8, 10, 12]])\n",
    "    >>> multiply(array, 2)\n",
    "    array([[ 2,  4,  6],\n",
    "           [ 8, 10, 12]])\n",
    "    >>> multiply.cache_info()\n",
    "    CacheInfo(hits=1, misses=1, maxsize=256, currsize=1)\n",
    "\n",
    "    \"\"\"\n",
    "\n",
    "    def decorator(function):\n",
    "        @wraps(function)\n",
    "        def wrapper(np_array, *args, **kwargs):\n",
    "            hashable_array = array_to_tuple(np_array)\n",
    "            return cached_wrapper(hashable_array, *args, **kwargs)\n",
    "\n",
    "        @lru_cache(*args, **kwargs)\n",
    "        def cached_wrapper(hashable_array, *args, **kwargs):\n",
    "            array = np.array(hashable_array)\n",
    "            return function(array, *args, **kwargs)\n",
    "\n",
    "        def array_to_tuple(np_array):\n",
    "            \"\"\"Iterates recursivelly.\"\"\"\n",
    "            try:\n",
    "                return tuple(array_to_tuple(_) for _ in np_array)\n",
    "            except TypeError:\n",
    "                return np_array\n",
    "\n",
    "        # copy lru_cache attributes over too\n",
    "        wrapper.cache_info = cached_wrapper.cache_info\n",
    "        wrapper.cache_clear = cached_wrapper.cache_clear\n",
    "\n",
    "        return wrapper\n",
    "\n",
    "    return decorator"
   ]
  },
  {
   "cell_type": "code",
   "execution_count": 13,
   "metadata": {},
   "outputs": [],
   "source": [
    "# load image and drop alpha channel\n",
    "W = 32\n",
    "try:\n",
    "    func_vals = plt.imread(\"quadimg.png\")[..., :3]\n",
    "except FileNotFoundError as e:\n",
    "    # maybe on google colab\n",
    "    import urllib.request\n",
    "\n",
    "    urllib.request.urlretrieve(\n",
    "        \"https://raw.githubusercontent.com/whitead/dmol-book/main/dl/quadimg.png\",\n",
    "        \"quadimg.png\",\n",
    "    )\n",
    "    func_vals = plt.imread(\"quadimg.png\")[..., :3]\n",
    "# we pad it with zeros to show boundary\n",
    "func_vals = np.pad(\n",
    "    func_vals, ((1, 1), (1, 1), (0, 0)), mode=\"constant\", constant_values=0.2\n",
    ")\n",
    "\n",
    "\n",
    "def pix_func(x):\n",
    "    # clip & squeeze & round to account for transformed values\n",
    "    xclip = np.squeeze(np.clip(np.round(x), -W // 2 - 1, W // 2)).astype(int)\n",
    "    # points are centered, fix that\n",
    "    xclip += [W // 2, W // 2, 0]\n",
    "    # add 1 to account for padding\n",
    "    return func_vals[xclip[..., 0] + 1, xclip[..., 1] + 1]"
   ]
  },
  {
   "cell_type": "code",
   "execution_count": 14,
   "metadata": {},
   "outputs": [
    {
     "data": {
      "image/png": "[encoded data removed]",
      "text/plain": [
       "<Figure size 400x400 with 1 Axes>"
      ]
     },
     "metadata": {},
     "output_type": "display_data"
    }
   ],
   "source": [
    "def plot_func(f, ax=None):\n",
    "    if ax is None:\n",
    "        plt.figure(figsize=(2, 2))\n",
    "        ax = plt.gca()\n",
    "    gridx, gridy = np.meshgrid(\n",
    "        np.arange(-W // 2, W // 2), np.arange(-W // 2, W // 2), indexing=\"ij\"\n",
    "    )\n",
    "    # make it into batched x,y indices and add dummy 1 indices for augmented space\n",
    "    batched_idx = np.vstack(\n",
    "        (gridx.flatten(), gridy.flatten(), np.ones_like(gridx.flatten()))\n",
    "    ).T\n",
    "    ax.imshow(f(batched_idx).reshape(W, W, 3), origin=\"upper\")\n",
    "    ax.axis(\"off\")\n",
    "\n",
    "\n",
    "plot_func(pix_func)\n"
   ]
  },
  {
   "cell_type": "code",
   "execution_count": 15,
   "metadata": {},
   "outputs": [
    {
     "data": {
      "image/png": "[encoded data removed]",
      "text/plain": [
       "<Figure size 400x400 with 1 Axes>"
      ]
     },
     "metadata": {},
     "output_type": "display_data"
    }
   ],
   "source": [
    "def make_h(rot, mirror):\n",
    "    \"\"\"Make h subgroup element\"\"\"\n",
    "    m = np.eye(3)\n",
    "    if mirror:\n",
    "        m = np.array([[-1, 0, 0], [0, 1, 0], [0, 0, 1]])\n",
    "    r = np.array(\n",
    "        [[np.cos(rot), -np.sin(rot), 0], [np.sin(rot), np.cos(rot), 0], [0, 0, 1]]\n",
    "    )\n",
    "    return r @ m\n",
    "\n",
    "\n",
    "def make_n(dx, dy):\n",
    "    \"\"\"Make normal subgroup element\"\"\"\n",
    "    return np.array([[1, 0, dx], [0, 1, dy], [0, 0, 1]])\n",
    "\n",
    "\n",
    "def g_func_trans(g, f):\n",
    "    \"\"\"compute g-function transform\"\"\"\n",
    "\n",
    "    @np_cache(maxsize=W**3)\n",
    "    def fxn(x, g=g, f=f):\n",
    "        ginv = np.linalg.inv(g)\n",
    "        return f(ginv.reshape(1, 3, 3) @ x.reshape(-1, 3, 1))\n",
    "\n",
    "    return fxn\n",
    "\n",
    "\n",
    "g = make_h(np.pi, 1) @ make_n(12, -8)\n",
    "tfunc = g_func_trans(g, pix_func)\n",
    "plot_func(tfunc)"
   ]
  },
  {
   "cell_type": "code",
   "execution_count": 16,
   "metadata": {},
   "outputs": [
    {
     "name": "stdout",
     "output_type": "stream",
     "text": [
      "lifted [0.93333334 0.7176471  0.43137255]\n",
      "projected [[0.72941178 0.71764708 0.72156864]]\n"
     ]
    }
   ],
   "source": [
    "# enumerate stabilizer subgroup (rotation/mirrors)\n",
    "stabilizer = []\n",
    "for i in range(4):\n",
    "    for j in range(2):\n",
    "        stabilizer.append(make_h(i * np.pi / 2, j))\n",
    "\n",
    "\n",
    "def lift(f):\n",
    "    \"\"\"lift f into group\"\"\"\n",
    "\n",
    "    # create new function from original\n",
    "    # that is f(gx_0)\n",
    "    @np_cache(maxsize=W**3)\n",
    "    def fxn(g, f=f):\n",
    "        return f(g @ np.array([0, 0, 1]))\n",
    "\n",
    "    return fxn\n",
    "\n",
    "\n",
    "def project(f):\n",
    "    \"\"\"create projected function over space\"\"\"\n",
    "\n",
    "    @np_cache(maxsize=W**3)\n",
    "    def fxn(x, f=f):\n",
    "        # x may be batched so we have to allow it to be N x 3\n",
    "        x = np.array(x).reshape((-1, 3))\n",
    "        out = np.zeros((x.shape[0], 3))\n",
    "        for i, xi in enumerate(x):\n",
    "            # find coset gH\n",
    "            g = make_n(xi[0], xi[1])\n",
    "            # loop over coset\n",
    "            for h in stabilizer:\n",
    "                ghi = g @ h\n",
    "                out[i] += f(ghi)\n",
    "            out[i] /= len(stabilizer)\n",
    "        return out\n",
    "\n",
    "    return fxn\n",
    "\n",
    "\n",
    "# try them out\n",
    "print(\"lifted\", lift(pix_func)(g))\n",
    "print(\"projected\", project(lift(pix_func))([12, -8, 0]))"
   ]
  },
  {
   "cell_type": "code",
   "execution_count": 17,
   "metadata": {},
   "outputs": [
    {
     "data": {
      "text/plain": [
       "array([1.05730277e-03, 6.78471822e-07, 8.35992302e-04])"
      ]
     },
     "execution_count": 17,
     "metadata": {},
     "output_type": "execute_result"
    }
   ],
   "source": [
    "def sigmoid(x):\n",
    "    return 1 / (1 + np.exp(-x))\n",
    "\n",
    "kernel_width = 5  # must be odd\n",
    "# make some random values for kernel (untrained)\n",
    "# kernel is group elements x 3 x 3. The group elements are structured (for simplicity) as a N x 5 x 5\n",
    "# the 3 x 3 part is because we have 3 color channels coming in and 3 going out.\n",
    "kernel = np.random.uniform(\n",
    "    -0.5, 0.5, size=(len(stabilizer), kernel_width, kernel_width, 3, 3)\n",
    ")\n",
    "\n",
    "\n",
    "def conv(f, p=kernel):\n",
    "    @np_cache(maxsize=W**4)\n",
    "    def fxn(u):\n",
    "        # It is possible to do this without inner for\n",
    "        # loops over convolution (use a standard conv),\n",
    "        # but we do this for simplicity.\n",
    "        result = 0\n",
    "        for hi, h in enumerate(stabilizer):\n",
    "            for nix in range(-kernel_width // 2, kernel_width // 2 + 1):\n",
    "                for niy in range(-kernel_width // 2, kernel_width // 2 + 1):\n",
    "                    result += (\n",
    "                        f(u @ make_n(-nix, -niy) @ np.linalg.inv(h))\n",
    "                        @ kernel[hi, nix + kernel_width // 2, niy + kernel_width // 2]\n",
    "                    )\n",
    "        return sigmoid(result)\n",
    "\n",
    "    return fxn\n",
    "\n",
    "\n",
    "# compute convolution\n",
    "cout = conv(lift(pix_func))\n",
    "# try it out an a group element\n",
    "cout(g)"
   ]
  },
  {
   "cell_type": "code",
   "execution_count": 18,
   "metadata": {},
   "outputs": [
    {
     "data": {
      "image/png": "[encoded data removed]",
      "text/plain": [
       "<Figure size 400x400 with 1 Axes>"
      ]
     },
     "metadata": {},
     "output_type": "display_data"
    }
   ],
   "source": [
    "def plot_coset(h, f, ax):\n",
    "    \"\"\"plot a function over group elements on cosets given representative g\"\"\"\n",
    "    gridx, gridy = np.meshgrid(\n",
    "        np.arange(-W // 2, W // 2), np.arange(-W // 2, W // 2), indexing=\"ij\"\n",
    "    )\n",
    "    # make it into batched x,y indices and add dummy 1 indices for augmented space\n",
    "    batched_idx = np.vstack(\n",
    "        (gridx.flatten(), gridy.flatten(), np.ones_like(gridx.flatten()))\n",
    "    ).T\n",
    "    values = np.zeros((W**2, 3))\n",
    "    for i, bi in enumerate(batched_idx):\n",
    "        values[i] = f(h @ make_n(bi[0], bi[1]))\n",
    "    ax.imshow(values.reshape(W, W, 3), origin=\"upper\")\n",
    "    ax.axis(\"off\")\n",
    "\n",
    "\n",
    "# try it with mirror\n",
    "plt.figure(figsize=(2, 2))\n",
    "plot_coset(make_h(0, 1), lift(pix_func), ax=plt.gca())"
   ]
  },
  {
   "cell_type": "code",
   "execution_count": 19,
   "metadata": {},
   "outputs": [
    {
     "data": {
      "image/png": "[encoded data removed]",
      "text/plain": [
       "<Figure size 1600x800 with 8 Axes>"
      ]
     },
     "metadata": {},
     "output_type": "display_data"
    }
   ],
   "source": [
    "stabilizer_names = [\"$e$\", \"$r$\", \"$r^2$\", \"$r^3$\", \"$s$\", \"$rs$\", \"$r^2s$\", \"$r^3s$\"]\n",
    "fig, axs = plt.subplots(2, 4, figsize=(8, 4))\n",
    "axs = axs.flatten()\n",
    "for i, (n, h) in enumerate(zip(stabilizer_names, stabilizer)):\n",
    "    ax = axs[i]\n",
    "    plot_coset(h, cout, ax)\n",
    "    ax.set_title(n)"
   ]
  },
  {
   "cell_type": "code",
   "execution_count": null,
   "metadata": {},
   "outputs": [],
   "source": [
    "fig, axs = plt.subplots(1, 3, squeeze=True)\n",
    "plot_func(project(cout), ax=axs[0])\n",
    "axs[0].set_title(r\"$\\psi\\left[f(g)\\right]$\")\n",
    "\n",
    "# make a transformation for visualization purposes\n",
    "g = make_h(np.pi, 0) @ make_n(-10, 16)\n",
    "tfunc = g_func_trans(g, project(cout))\n",
    "plot_func(tfunc, ax=axs[1])\n",
    "axs[1].set_title(r\"$\\mathbb{T}\\psi\\left[f(g)\\right]$\")\n",
    "\n",
    "tcout = project(conv(lift(g_func_trans(g, pix_func))))\n",
    "\n",
    "plot_func(tcout, ax=axs[2])\n",
    "axs[2].set_title(r\"$\\psi\\left[\\mathbb{T}f(g)\\right]$\")\n",
    "plt.show()"
   ]
  }
 ],
 "metadata": {
  "kernelspec": {
   "display_name": "d2l",
   "language": "python",
   "name": "python3"
  },
  "language_info": {
   "codemirror_mode": {
    "name": "ipython",
    "version": 3
   },
   "file_extension": ".py",
   "mimetype": "text/x-python",
   "name": "python",
   "nbconvert_exporter": "python",
   "pygments_lexer": "ipython3",
   "version": "3.9.16"
  },
  "orig_nbformat": 4
 },
 "nbformat": 4,
 "nbformat_minor": 2
}
